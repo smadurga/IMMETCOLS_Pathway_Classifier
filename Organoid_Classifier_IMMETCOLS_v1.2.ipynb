{
 "cells": [
  {
   "cell_type": "markdown",
   "metadata": {},
   "source": [
    "## Organoid Classifier with IMMETCOLS signature"
   ]
  },
  {
   "cell_type": "raw",
   "metadata": {},
   "source": [
    "The Simple Sample classifier correlates the relative values of pathways to classify samples into IMC1, IMC2 and IMC3 clusters of IMMETCOLS signature without the need for renormalization.\n",
    "\n",
    "A selection of 20 KEGG pathways is used to predict with Simple Sample methodology the IMMETCOLS signature without renormalization.\n",
    "\n",
    "Author: Sergio Madurga   (Universitat de Barcelona)"
   ]
  },
  {
   "cell_type": "code",
   "execution_count": 1,
   "metadata": {},
   "outputs": [],
   "source": [
    "import firmaIMC_v2 as firmaIMC\n",
    "import pandas as pd\n",
    "import json\n",
    "import numpy as np\n",
    "import matplotlib.pyplot as plt\n",
    "from matplotlib.pyplot import figure"
   ]
  },
  {
   "cell_type": "markdown",
   "metadata": {},
   "source": [
    "### Functions"
   ]
  },
  {
   "cell_type": "code",
   "execution_count": 2,
   "metadata": {},
   "outputs": [],
   "source": [
    "def Calc_Prediction_IMC_SingleSample(pd_ranking_SET,df_allinfo_SET,dict_gens_Coincidents_SET,nomPacient=\"Pac1\"):\n",
    "\n",
    "    \n",
    "    pd_prediction_SET=pd.DataFrame()\n",
    "        \n",
    "    pd_cas1=df_allinfo_SET.iloc[0:1]\n",
    "        \n",
    "        \n",
    "    pd_rank1=Ranking_PATHS_IMC_SingleSample(pd_cas1,dict_gens_Coincidents_SET)\n",
    "    corr_IMC1=pd_ranking_SET[[\"IMC1\"]].corrwith(pd_rank1[\"ValPathWay\"]).values[0]\n",
    "    corr_IMC2=pd_ranking_SET[[\"IMC2\"]].corrwith(pd_rank1[\"ValPathWay\"]).values[0]\n",
    "    corr_IMC3=pd_ranking_SET[[\"IMC3\"]].corrwith(pd_rank1[\"ValPathWay\"]).values[0]\n",
    "    IMC_SSP='NA'\n",
    "    if corr_IMC1 > corr_IMC2 and corr_IMC1 > corr_IMC3 :\n",
    "        IMC_SSP=\"Cluster_1\"\n",
    "    if corr_IMC2 > corr_IMC1 and corr_IMC2 > corr_IMC3 :\n",
    "        IMC_SSP=\"Cluster_2\"\n",
    "    if corr_IMC3 > corr_IMC1 and corr_IMC3 > corr_IMC2 :\n",
    "        IMC_SSP=\"Cluster_3\"\n",
    "\n",
    "    pd_prediction_SET=pd.concat([pd_prediction_SET,pd.DataFrame( {\"IMC_SSP\":(IMC_SSP),\n",
    "            'corrIMC1': (corr_IMC1), 'corrIMC2': (corr_IMC2), 'corrIMC3': (corr_IMC3) },index=[nomPacient]  ) ] )\n",
    "\n",
    "    return pd_prediction_SET\n",
    "\n",
    "def Ranking_PATHS_IMC_SingleSample(df_allinfo_SET,dict_path_gens,factorAug=2.0,verbose=False):\n",
    "    \"\"\"Ranking dels PATHS, Sense normalitzar gens.\n",
    "    Retorna: Taula Pandas amb els paths (absolute valor)\"\"\"\n",
    "    global mean_Path,mean_ALL,sel_gens\n",
    "        \n",
    "    pd_mean_Path=pd.DataFrame()\n",
    "    \n",
    "    for nom_path in dict_path_gens.keys():\n",
    "        sel_gens=dict_path_gens[nom_path]\n",
    "        if verbose==True:\n",
    "            print('Nom path: {}, num. gens:{}'.format(nom_path,len(sel_gens)))   \n",
    "    \n",
    "        mean_Path=df_allinfo_SET[sel_gens].mean(axis=1)\n",
    "\n",
    "        pd_mean_Path=pd.concat([pd_mean_Path,pd.DataFrame( {'ValPathWay': (mean_Path.values) }, index=[nom_path]   )] )\n",
    "        # Values necesari, ja que guarda el index del dataframe. values treu el index.\n",
    "\n",
    "    return pd_mean_Path"
   ]
  },
  {
   "cell_type": "code",
   "execution_count": null,
   "metadata": {},
   "outputs": [],
   "source": []
  },
  {
   "cell_type": "code",
   "execution_count": 3,
   "metadata": {},
   "outputs": [],
   "source": [
    "# Read data from files:\n",
    "selected_gens=['GLS','TGFB1','TWIST1','GOT1','LDHA','GLUL','FAP','ZEB1','ZEB2', 'ENTPD1'] # Gens of IMMETCOLS Signature\n",
    "dict_gens_inicial = json.load( open( \"dict_gens.json\" ) )\n",
    "pd_ranking_GSE1=pd.read_excel('Ranking_IMMETCOLS_by_GSE1.xlsx',index_col=0)\n",
    "pd_ranking_TCGA=pd.read_excel('Ranking_IMMETCOLS_by_TCGA.xlsx',index_col=0)"
   ]
  },
  {
   "cell_type": "markdown",
   "metadata": {},
   "source": [
    "# Lectura Organoid"
   ]
  },
  {
   "cell_type": "markdown",
   "metadata": {},
   "source": [
    "### Lectura dades Organoid CCR72"
   ]
  },
  {
   "cell_type": "code",
   "execution_count": 4,
   "metadata": {},
   "outputs": [
    {
     "data": {
      "text/html": [
       "<div>\n",
       "<style scoped>\n",
       "    .dataframe tbody tr th:only-of-type {\n",
       "        vertical-align: middle;\n",
       "    }\n",
       "\n",
       "    .dataframe tbody tr th {\n",
       "        vertical-align: top;\n",
       "    }\n",
       "\n",
       "    .dataframe thead th {\n",
       "        text-align: right;\n",
       "    }\n",
       "</style>\n",
       "<table border=\"1\" class=\"dataframe\">\n",
       "  <thead>\n",
       "    <tr style=\"text-align: right;\">\n",
       "      <th></th>\n",
       "      <th>l2FPKM</th>\n",
       "      <th>l2TPM</th>\n",
       "    </tr>\n",
       "    <tr>\n",
       "      <th>hgnc_symbol</th>\n",
       "      <th></th>\n",
       "      <th></th>\n",
       "    </tr>\n",
       "  </thead>\n",
       "  <tbody>\n",
       "    <tr>\n",
       "      <th>GLS</th>\n",
       "      <td>4.701549</td>\n",
       "      <td>4.776104</td>\n",
       "    </tr>\n",
       "    <tr>\n",
       "      <th>TGFB1</th>\n",
       "      <td>3.733354</td>\n",
       "      <td>3.805292</td>\n",
       "    </tr>\n",
       "    <tr>\n",
       "      <th>TWIST1</th>\n",
       "      <td>0.000000</td>\n",
       "      <td>0.000000</td>\n",
       "    </tr>\n",
       "    <tr>\n",
       "      <th>GOT1</th>\n",
       "      <td>6.410918</td>\n",
       "      <td>6.487679</td>\n",
       "    </tr>\n",
       "    <tr>\n",
       "      <th>LDHA</th>\n",
       "      <td>8.646847</td>\n",
       "      <td>8.724343</td>\n",
       "    </tr>\n",
       "    <tr>\n",
       "      <th>GLUL</th>\n",
       "      <td>5.699330</td>\n",
       "      <td>5.775577</td>\n",
       "    </tr>\n",
       "    <tr>\n",
       "      <th>FAP</th>\n",
       "      <td>1.803227</td>\n",
       "      <td>1.859970</td>\n",
       "    </tr>\n",
       "    <tr>\n",
       "      <th>ZEB1</th>\n",
       "      <td>0.014355</td>\n",
       "      <td>0.014355</td>\n",
       "    </tr>\n",
       "    <tr>\n",
       "      <th>ZEB2</th>\n",
       "      <td>0.014355</td>\n",
       "      <td>0.014355</td>\n",
       "    </tr>\n",
       "    <tr>\n",
       "      <th>ENTPD1</th>\n",
       "      <td>1.659925</td>\n",
       "      <td>1.713696</td>\n",
       "    </tr>\n",
       "  </tbody>\n",
       "</table>\n",
       "</div>"
      ],
      "text/plain": [
       "               l2FPKM     l2TPM\n",
       "hgnc_symbol                    \n",
       "GLS          4.701549  4.776104\n",
       "TGFB1        3.733354  3.805292\n",
       "TWIST1       0.000000  0.000000\n",
       "GOT1         6.410918  6.487679\n",
       "LDHA         8.646847  8.724343\n",
       "GLUL         5.699330  5.775577\n",
       "FAP          1.803227  1.859970\n",
       "ZEB1         0.014355  0.014355\n",
       "ZEB2         0.014355  0.014355\n",
       "ENTPD1       1.659925  1.713696"
      ]
     },
     "execution_count": 4,
     "metadata": {},
     "output_type": "execute_result"
    }
   ],
   "source": [
    "pd_CCR72=pd.read_csv('CCR72_EC_TPM_FPKM_bis.csv',sep=';')\n",
    "pd_CCR72.index=pd_CCR72['hgnc_symbol']\n",
    "\n",
    "#pd_CRC26.boxplot(\n",
    "pd_CCR72['l2FPKM']=np.log2(pd_CCR72['FPKM']+1)\n",
    "pd_CCR72['l2TPM']=np.log2(pd_CCR72['TPM']+1)\n",
    "\n",
    "pd_10gens_CCR72=pd_CCR72[['l2FPKM','l2TPM']].loc[selected_gens]\n",
    "pd_10gens_CCR72"
   ]
  },
  {
   "cell_type": "code",
   "execution_count": 5,
   "metadata": {},
   "outputs": [],
   "source": [
    "pd_org_CCR72=pd_CCR72[['l2FPKM',\"hgnc_symbol\"]].transpose() #.loc([\"l2FPKM\"])\n",
    "pd_org_CCR72=pd_org_CCR72.loc[[\"l2FPKM\"]]   # Eliminar fila duplicada amb els noms dels gens"
   ]
  },
  {
   "cell_type": "code",
   "execution_count": 6,
   "metadata": {},
   "outputs": [
    {
     "name": "stdout",
     "output_type": "stream",
     "text": [
      "% of coincident gens\n",
      "Glycolysis\n",
      "Num. gens: 200 de 200  100.00 % \n",
      "Lactate transport\n",
      "Num. gens: 7 de 7  100.00 % \n",
      "Fatty Acid Oxidation\n",
      "Num. gens: 16 de 16  100.00 % \n",
      "Glutamine metabolic\n",
      "Num. gens: 78 de 79  98.73 % \n",
      "Glutamine transport\n",
      "Num. gens: 9 de 9  100.00 % \n",
      "Glutamine catabolic\n",
      "Num. gens: 26 de 27  96.30 % \n",
      "Glutamine biosynthesis\n",
      "Num. gens: 18 de 18  100.00 % \n",
      "Pentose Phosphate\n",
      "Num. gens: 27 de 27  100.00 % \n",
      "Oxphos\n",
      "Num. gens: 103 de 103  100.00 % \n",
      "MYC targets\n",
      "Num. gens: 200 de 200  100.00 % \n",
      "G2M checkpoint\n",
      "Num. gens: 200 de 200  100.00 % \n",
      "E2F targets\n",
      "Num. gens: 200 de 200  100.00 % \n",
      "ROS Pathway\n",
      "Num. gens: 48 de 49  97.96 % \n",
      "MTORC1 signaling\n",
      "Num. gens: 200 de 200  100.00 % \n",
      "---\n",
      "Num. gens: 77 de 77  100.00 % \n",
      "CAF\n",
      "Num. gens: 7 de 7  100.00 % \n",
      "Hypoxia\n",
      "Num. gens: 200 de 200  100.00 % \n",
      "Hexosaminidase\n",
      "Num. gens: 15 de 15  100.00 % \n",
      "EMT\n",
      "Num. gens: 191 de 192  99.48 % \n",
      "TGFbeta signaling\n",
      "Num. gens: 132 de 132  100.00 % \n",
      "Angiogenesis\n",
      "Num. gens: 36 de 36  100.00 % \n",
      "ECM interactions\n",
      "Num. gens: 59 de 59  100.00 % \n",
      "----\n",
      "Num. gens: 44 de 44  100.00 % \n",
      "Colon cancer MSI up\n",
      "Num. gens: 16 de 16  100.00 % \n",
      "Imflammatory resp.\n",
      "Num. gens: 30 de 30  100.00 % \n",
      "IFN gamma resp.\n",
      "Num. gens: 71 de 71  100.00 % \n",
      "IL6 signaling\n",
      "Num. gens: 43 de 43  100.00 % \n",
      "T-cytotoxic pathway\n",
      "Num. gens: 12 de 12  100.00 % \n",
      "PD1\n",
      "Num. gens: 196 de 198  98.99 % \n"
     ]
    }
   ],
   "source": [
    "print(\"% of coincident gens\")\n",
    "dict_gens_Coincidents_CCR72={}\n",
    "for ele in dict_gens_inicial.keys():\n",
    "    print(ele)\n",
    "    dict_gens_Coincidents_CCR72[ele]=firmaIMC.Commom_genes(dict_gens_inicial[ele],list(pd_CCR72['hgnc_symbol']))"
   ]
  },
  {
   "cell_type": "code",
   "execution_count": 7,
   "metadata": {},
   "outputs": [],
   "source": [
    "#Calc_Prediction_IMC_SingleSample(pd_ranking_GSE1,pd_org_CCR72,dict_gens_Coincidents_CCR72)"
   ]
  },
  {
   "cell_type": "code",
   "execution_count": 8,
   "metadata": {},
   "outputs": [
    {
     "data": {
      "text/html": [
       "<div>\n",
       "<style scoped>\n",
       "    .dataframe tbody tr th:only-of-type {\n",
       "        vertical-align: middle;\n",
       "    }\n",
       "\n",
       "    .dataframe tbody tr th {\n",
       "        vertical-align: top;\n",
       "    }\n",
       "\n",
       "    .dataframe thead th {\n",
       "        text-align: right;\n",
       "    }\n",
       "</style>\n",
       "<table border=\"1\" class=\"dataframe\">\n",
       "  <thead>\n",
       "    <tr style=\"text-align: right;\">\n",
       "      <th></th>\n",
       "      <th>IMC_SSP</th>\n",
       "      <th>corrIMC1</th>\n",
       "      <th>corrIMC2</th>\n",
       "      <th>corrIMC3</th>\n",
       "    </tr>\n",
       "  </thead>\n",
       "  <tbody>\n",
       "    <tr>\n",
       "      <th>Pac1</th>\n",
       "      <td>Cluster_3</td>\n",
       "      <td>0.653482</td>\n",
       "      <td>0.844152</td>\n",
       "      <td>0.873737</td>\n",
       "    </tr>\n",
       "  </tbody>\n",
       "</table>\n",
       "</div>"
      ],
      "text/plain": [
       "        IMC_SSP  corrIMC1  corrIMC2  corrIMC3\n",
       "Pac1  Cluster_3  0.653482  0.844152  0.873737"
      ]
     },
     "execution_count": 8,
     "metadata": {},
     "output_type": "execute_result"
    }
   ],
   "source": [
    "Calc_Prediction_IMC_SingleSample(pd_ranking_TCGA,pd_org_CCR72,dict_gens_Coincidents_CCR72)"
   ]
  },
  {
   "cell_type": "markdown",
   "metadata": {},
   "source": [
    "### Lectura dades Organoid CCR83"
   ]
  },
  {
   "cell_type": "code",
   "execution_count": 9,
   "metadata": {},
   "outputs": [
    {
     "data": {
      "text/html": [
       "<div>\n",
       "<style scoped>\n",
       "    .dataframe tbody tr th:only-of-type {\n",
       "        vertical-align: middle;\n",
       "    }\n",
       "\n",
       "    .dataframe tbody tr th {\n",
       "        vertical-align: top;\n",
       "    }\n",
       "\n",
       "    .dataframe thead th {\n",
       "        text-align: right;\n",
       "    }\n",
       "</style>\n",
       "<table border=\"1\" class=\"dataframe\">\n",
       "  <thead>\n",
       "    <tr style=\"text-align: right;\">\n",
       "      <th></th>\n",
       "      <th>l2FPKM</th>\n",
       "      <th>l2TPM</th>\n",
       "    </tr>\n",
       "    <tr>\n",
       "      <th>hgnc_symbol</th>\n",
       "      <th></th>\n",
       "      <th></th>\n",
       "    </tr>\n",
       "  </thead>\n",
       "  <tbody>\n",
       "    <tr>\n",
       "      <th>GLS</th>\n",
       "      <td>5.564378</td>\n",
       "      <td>5.839204</td>\n",
       "    </tr>\n",
       "    <tr>\n",
       "      <th>TGFB1</th>\n",
       "      <td>2.823749</td>\n",
       "      <td>3.066950</td>\n",
       "    </tr>\n",
       "    <tr>\n",
       "      <th>TWIST1</th>\n",
       "      <td>0.000000</td>\n",
       "      <td>0.000000</td>\n",
       "    </tr>\n",
       "    <tr>\n",
       "      <th>GOT1</th>\n",
       "      <td>5.604961</td>\n",
       "      <td>5.880196</td>\n",
       "    </tr>\n",
       "    <tr>\n",
       "      <th>LDHA</th>\n",
       "      <td>9.423116</td>\n",
       "      <td>9.703090</td>\n",
       "    </tr>\n",
       "    <tr>\n",
       "      <th>GLUL</th>\n",
       "      <td>6.164505</td>\n",
       "      <td>6.441284</td>\n",
       "    </tr>\n",
       "    <tr>\n",
       "      <th>FAP</th>\n",
       "      <td>0.042644</td>\n",
       "      <td>0.056584</td>\n",
       "    </tr>\n",
       "    <tr>\n",
       "      <th>ZEB1</th>\n",
       "      <td>0.137504</td>\n",
       "      <td>0.163499</td>\n",
       "    </tr>\n",
       "    <tr>\n",
       "      <th>ZEB2</th>\n",
       "      <td>0.042644</td>\n",
       "      <td>0.056584</td>\n",
       "    </tr>\n",
       "    <tr>\n",
       "      <th>ENTPD1</th>\n",
       "      <td>1.459432</td>\n",
       "      <td>1.646163</td>\n",
       "    </tr>\n",
       "  </tbody>\n",
       "</table>\n",
       "</div>"
      ],
      "text/plain": [
       "               l2FPKM     l2TPM\n",
       "hgnc_symbol                    \n",
       "GLS          5.564378  5.839204\n",
       "TGFB1        2.823749  3.066950\n",
       "TWIST1       0.000000  0.000000\n",
       "GOT1         5.604961  5.880196\n",
       "LDHA         9.423116  9.703090\n",
       "GLUL         6.164505  6.441284\n",
       "FAP          0.042644  0.056584\n",
       "ZEB1         0.137504  0.163499\n",
       "ZEB2         0.042644  0.056584\n",
       "ENTPD1       1.459432  1.646163"
      ]
     },
     "execution_count": 9,
     "metadata": {},
     "output_type": "execute_result"
    }
   ],
   "source": [
    "pd_CCR83=pd.read_csv('CCR83_EC_TPM_FPKM_bis.csv',sep=';')\n",
    "pd_CCR83.index=pd_CCR83['hgnc_symbol']\n",
    "\n",
    "#pd_CRC26.boxplot(\n",
    "pd_CCR83['l2FPKM']=np.log2(pd_CCR83['FPKM']+1)\n",
    "pd_CCR83['l2TPM']=np.log2(pd_CCR83['TPM']+1)\n",
    "\n",
    "pd_10gens_CCR83=pd_CCR83[['l2FPKM','l2TPM']].loc[selected_gens]\n",
    "pd_10gens_CCR83"
   ]
  },
  {
   "cell_type": "code",
   "execution_count": 10,
   "metadata": {},
   "outputs": [],
   "source": [
    "pd_org_CCR83=pd_CCR83[['l2FPKM',\"hgnc_symbol\"]].transpose() #.loc([\"l2FPKM\"])\n",
    "pd_org_CCR83=pd_org_CCR83.loc[[\"l2FPKM\"]]   # Eliminar fila duplicada amb els noms dels gens"
   ]
  },
  {
   "cell_type": "code",
   "execution_count": 11,
   "metadata": {},
   "outputs": [
    {
     "name": "stdout",
     "output_type": "stream",
     "text": [
      "% of coincident gens\n",
      "Glycolysis\n",
      "Num. gens: 200 de 200  100.00 % \n",
      "Lactate transport\n",
      "Num. gens: 7 de 7  100.00 % \n",
      "Fatty Acid Oxidation\n",
      "Num. gens: 16 de 16  100.00 % \n",
      "Glutamine metabolic\n",
      "Num. gens: 78 de 79  98.73 % \n",
      "Glutamine transport\n",
      "Num. gens: 9 de 9  100.00 % \n",
      "Glutamine catabolic\n",
      "Num. gens: 26 de 27  96.30 % \n",
      "Glutamine biosynthesis\n",
      "Num. gens: 18 de 18  100.00 % \n",
      "Pentose Phosphate\n",
      "Num. gens: 27 de 27  100.00 % \n",
      "Oxphos\n",
      "Num. gens: 103 de 103  100.00 % \n",
      "MYC targets\n",
      "Num. gens: 200 de 200  100.00 % \n",
      "G2M checkpoint\n",
      "Num. gens: 200 de 200  100.00 % \n",
      "E2F targets\n",
      "Num. gens: 200 de 200  100.00 % \n",
      "ROS Pathway\n",
      "Num. gens: 48 de 49  97.96 % \n",
      "MTORC1 signaling\n",
      "Num. gens: 200 de 200  100.00 % \n",
      "---\n",
      "Num. gens: 77 de 77  100.00 % \n",
      "CAF\n",
      "Num. gens: 7 de 7  100.00 % \n",
      "Hypoxia\n",
      "Num. gens: 200 de 200  100.00 % \n",
      "Hexosaminidase\n",
      "Num. gens: 15 de 15  100.00 % \n",
      "EMT\n",
      "Num. gens: 191 de 192  99.48 % \n",
      "TGFbeta signaling\n",
      "Num. gens: 132 de 132  100.00 % \n",
      "Angiogenesis\n",
      "Num. gens: 36 de 36  100.00 % \n",
      "ECM interactions\n",
      "Num. gens: 59 de 59  100.00 % \n",
      "----\n",
      "Num. gens: 44 de 44  100.00 % \n",
      "Colon cancer MSI up\n",
      "Num. gens: 16 de 16  100.00 % \n",
      "Imflammatory resp.\n",
      "Num. gens: 30 de 30  100.00 % \n",
      "IFN gamma resp.\n",
      "Num. gens: 71 de 71  100.00 % \n",
      "IL6 signaling\n",
      "Num. gens: 43 de 43  100.00 % \n",
      "T-cytotoxic pathway\n",
      "Num. gens: 12 de 12  100.00 % \n",
      "PD1\n",
      "Num. gens: 196 de 198  98.99 % \n"
     ]
    }
   ],
   "source": [
    "print(\"% of coincident gens\")\n",
    "dict_gens_Coincidents_CCR83={}\n",
    "for ele in dict_gens_inicial.keys():\n",
    "    print(ele)\n",
    "    dict_gens_Coincidents_CCR83[ele]=firmaIMC.Commom_genes(dict_gens_inicial[ele],list(pd_CCR83['hgnc_symbol']))"
   ]
  },
  {
   "cell_type": "code",
   "execution_count": 12,
   "metadata": {},
   "outputs": [],
   "source": [
    "#Calc_Prediction_IMC_SingleSample(pd_ranking_GSE1,pd_org_CCR83,dict_gens_Coincidents_CCR83)"
   ]
  },
  {
   "cell_type": "code",
   "execution_count": 13,
   "metadata": {},
   "outputs": [
    {
     "data": {
      "text/html": [
       "<div>\n",
       "<style scoped>\n",
       "    .dataframe tbody tr th:only-of-type {\n",
       "        vertical-align: middle;\n",
       "    }\n",
       "\n",
       "    .dataframe tbody tr th {\n",
       "        vertical-align: top;\n",
       "    }\n",
       "\n",
       "    .dataframe thead th {\n",
       "        text-align: right;\n",
       "    }\n",
       "</style>\n",
       "<table border=\"1\" class=\"dataframe\">\n",
       "  <thead>\n",
       "    <tr style=\"text-align: right;\">\n",
       "      <th></th>\n",
       "      <th>IMC_SSP</th>\n",
       "      <th>corrIMC1</th>\n",
       "      <th>corrIMC2</th>\n",
       "      <th>corrIMC3</th>\n",
       "    </tr>\n",
       "  </thead>\n",
       "  <tbody>\n",
       "    <tr>\n",
       "      <th>Pac1</th>\n",
       "      <td>Cluster_3</td>\n",
       "      <td>0.687246</td>\n",
       "      <td>0.856558</td>\n",
       "      <td>0.88295</td>\n",
       "    </tr>\n",
       "  </tbody>\n",
       "</table>\n",
       "</div>"
      ],
      "text/plain": [
       "        IMC_SSP  corrIMC1  corrIMC2  corrIMC3\n",
       "Pac1  Cluster_3  0.687246  0.856558   0.88295"
      ]
     },
     "execution_count": 13,
     "metadata": {},
     "output_type": "execute_result"
    }
   ],
   "source": [
    "Calc_Prediction_IMC_SingleSample(pd_ranking_TCGA,pd_org_CCR83,dict_gens_Coincidents_CCR83)"
   ]
  },
  {
   "cell_type": "code",
   "execution_count": null,
   "metadata": {},
   "outputs": [],
   "source": []
  },
  {
   "cell_type": "markdown",
   "metadata": {},
   "source": [
    "### Analisis dels gens IMC"
   ]
  },
  {
   "cell_type": "markdown",
   "metadata": {},
   "source": [
    "### Figura log2 FPKM"
   ]
  },
  {
   "cell_type": "code",
   "execution_count": 14,
   "metadata": {},
   "outputs": [
    {
     "data": {
      "image/png": "[encoded data removed]",
      "text/plain": [
       "<Figure size 432x288 with 1 Axes>"
      ]
     },
     "metadata": {
      "needs_background": "light"
     },
     "output_type": "display_data"
    }
   ],
   "source": [
    "n = len(pd_10gens_CCR72.index)\n",
    "x = np.arange(n)\n",
    "width = 0.25\n",
    "titulo='log2 FPKM'\n",
    "plt.title(titulo)\n",
    "plt.ylabel(\"Gene expression\")\n",
    "#crc26=pd_10gens_CRC26['l2FPKM'].values\n",
    "crc72=pd_10gens_CCR72['l2FPKM'].values\n",
    "crc83=pd_10gens_CCR83['l2FPKM'].values\n",
    "\n",
    "\n",
    "#plt.bar(x - width, crc26, width=width, label='CRC26')\n",
    "plt.bar(x, crc72, width=width, label='CCR72')\n",
    "plt.bar(x + width, crc83, width=width, label='CCR83')\n",
    "plt.xticks(x, pd_10gens_CCR72.index)\n",
    "plt.legend(loc='best')\n",
    "plt.tick_params(axis='x', labelsize=8)  # Adjust the fontsize here for x-axis labels\n",
    "plt.savefig('FIGURE_1A_Genes.svg',dpi=600)\n",
    "plt.savefig('FIGURE_1A_Genes.png',dpi=600)\n",
    "\n",
    "plt.show()\n",
    "\n"
   ]
  },
  {
   "cell_type": "code",
   "execution_count": 15,
   "metadata": {},
   "outputs": [
    {
     "data": {
      "image/png": "[encoded data removed]",
      "text/plain": [
       "<Figure size 432x288 with 1 Axes>"
      ]
     },
     "metadata": {
      "needs_background": "light"
     },
     "output_type": "display_data"
    }
   ],
   "source": [
    "n = len(pd_10gens_CCR72.index)\n",
    "x = np.arange(n)\n",
    "width = 0.25\n",
    "titulo='l2TPM'\n",
    "plt.title(titulo)\n",
    "plt.ylabel(\"Gene expression\")\n",
    "#crc26=pd_10gens_CRC26['l2TPM'].values\n",
    "crc72=pd_10gens_CCR72['l2TPM'].values\n",
    "crc83=pd_10gens_CCR83['l2TPM'].values\n",
    "\n",
    "\n",
    "#plt.bar(x - width, crc26, width=width, label='CRC26')\n",
    "plt.bar(x, crc72, width=width, label='CRC72')\n",
    "plt.bar(x + width, crc83, width=width, label='CRC83')\n",
    "plt.xticks(x, pd_10gens_CCR72.index)\n",
    "plt.legend(loc='best')\n",
    "\n",
    "plt.show()\n"
   ]
  },
  {
   "cell_type": "markdown",
   "metadata": {},
   "source": [
    "## Ranking of Pathways of selected Organoids"
   ]
  },
  {
   "cell_type": "code",
   "execution_count": 16,
   "metadata": {},
   "outputs": [],
   "source": [
    "rankingCRC72=Ranking_PATHS_IMC_SingleSample(pd_CCR72[['l2FPKM']].transpose(),dict_gens_Coincidents_CCR72)"
   ]
  },
  {
   "cell_type": "code",
   "execution_count": 17,
   "metadata": {},
   "outputs": [],
   "source": [
    "rankingCRC83=Ranking_PATHS_IMC_SingleSample(pd_CCR83[['l2FPKM']].transpose(),dict_gens_Coincidents_CCR83)"
   ]
  },
  {
   "cell_type": "markdown",
   "metadata": {},
   "source": [
    "## FIGURA"
   ]
  },
  {
   "cell_type": "code",
   "execution_count": 18,
   "metadata": {},
   "outputs": [
    {
     "data": {
      "image/png": "[encoded data removed]",
      "text/plain": [
       "<Figure size 720x720 with 1 Axes>"
      ]
     },
     "metadata": {
      "needs_background": "light"
     },
     "output_type": "display_data"
    }
   ],
   "source": [
    "\n",
    "import matplotlib.pyplot as plt\n",
    "import numpy as np\n",
    "\n",
    "# Assuming rankings are in 'l2FPKM' column\n",
    "rankingCRC72_list = rankingCRC72.values.tolist()\n",
    "rankingCRC83_list = rankingCRC83.values.tolist()\n",
    "\n",
    "# Flatten the arrays\n",
    "rankingCRC72_list = np.squeeze(rankingCRC72_list).tolist()\n",
    "rankingCRC83_list = np.squeeze(rankingCRC83_list).tolist()\n",
    "\n",
    "# Assuming nom_pathways contains the pathway names\n",
    "pathways = rankingCRC72.index.tolist()\n",
    "\n",
    "#Eliminar Separadores\n",
    "pathways.pop(14)\n",
    "pathways.pop(21)\n",
    "rankingCRC72_list.pop(14)\n",
    "rankingCRC72_list.pop(21)\n",
    "rankingCRC83_list.pop(14)\n",
    "rankingCRC83_list.pop(21)\n",
    "\n",
    "\n",
    "\n",
    "# Creating a larger figure with higher height\n",
    "fig, ax = plt.subplots(figsize=(10, 10))\n",
    "\n",
    "# Creating bar plot\n",
    "bar_height = 0.35\n",
    "index = np.arange(len(pathways))\n",
    "\n",
    "ax.barh(index, rankingCRC72_list, height=bar_height, label='CRC72', alpha=0.7)\n",
    "ax.barh(index + bar_height, rankingCRC83_list, height=bar_height, label='CRC83', alpha=0.7)\n",
    "\n",
    "# Adding labels and title\n",
    "#ax.set_xlabel('Ranking Values')\n",
    "ax.set_xlabel('Average gene expression',fontsize=14)\n",
    "#ax.set_ylabel('Pathways')\n",
    "#ax.set_title('Pathway Rankings for CRC72 and CRC83')\n",
    "ax.set_yticks(index + bar_height / 2)\n",
    "ax.set_yticklabels(pathways, fontsize=14)  # Adjust the fontsize here\n",
    "ax.tick_params(axis='x', labelsize=14)  # Adjust the fontsize here for x-axis labels\n",
    "ax.legend(fontsize=14)\n",
    "\n",
    "# Display the plot\n",
    "plt.tight_layout()\n",
    "\n",
    "plt.savefig('FIGURE_1B_Pathways.png',dpi=600)\n",
    "plt.savefig('FIGURE_1B_Pathways.svg',dpi=600)\n",
    "\n",
    "plt.show()\n",
    "\n"
   ]
  },
  {
   "cell_type": "code",
   "execution_count": null,
   "metadata": {},
   "outputs": [],
   "source": []
  },
  {
   "cell_type": "code",
   "execution_count": null,
   "metadata": {},
   "outputs": [],
   "source": []
  }
 ],
 "metadata": {
  "kernelspec": {
   "display_name": "Python 3",
   "language": "python",
   "name": "python3"
  },
  "language_info": {
   "codemirror_mode": {
    "name": "ipython",
    "version": 3
   },
   "file_extension": ".py",
   "mimetype": "text/x-python",
   "name": "python",
   "nbconvert_exporter": "python",
   "pygments_lexer": "ipython3",
   "version": "3.8.10"
  }
 },
 "nbformat": 4,
 "nbformat_minor": 4
}
